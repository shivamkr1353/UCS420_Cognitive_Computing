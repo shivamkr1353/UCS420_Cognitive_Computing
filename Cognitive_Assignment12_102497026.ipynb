{
  "cells": [
    {
      "cell_type": "markdown",
      "id": "3e8b1796-9a6b-4b10-acdf-f9e77d696642",
      "metadata": {
        "id": "3e8b1796-9a6b-4b10-acdf-f9e77d696642"
      },
      "source": [
        "# 1. Deploy a Cognitive Systems or Chatbot for healthcare applications.\n"
      ]
    },
    {
      "cell_type": "code",
      "execution_count": 4,
      "id": "2a8873e6-8ad5-4421-a868-9750b9624876",
      "metadata": {
        "colab": {
          "base_uri": "https://localhost:8080/"
        },
        "id": "2a8873e6-8ad5-4421-a868-9750b9624876",
        "outputId": "cc73b090-a2a2-402f-cdc7-492356c37dc5"
      },
      "outputs": [
        {
          "output_type": "stream",
          "name": "stdout",
          "text": [
            "Collecting git+https://github.com/gunthercox/ChatterBot@master\n",
            "  Cloning https://github.com/gunthercox/ChatterBot (to revision master) to /tmp/pip-req-build-191l581i\n",
            "  Running command git clone --filter=blob:none --quiet https://github.com/gunthercox/ChatterBot /tmp/pip-req-build-191l581i\n",
            "  Resolved https://github.com/gunthercox/ChatterBot to commit bb613124fc9950843e61a89f923bf874d067c61d\n",
            "  Installing build dependencies ... \u001b[?25l\u001b[?25hdone\n",
            "  Getting requirements to build wheel ... \u001b[?25l\u001b[?25hdone\n",
            "  Preparing metadata (pyproject.toml) ... \u001b[?25l\u001b[?25hdone\n",
            "Collecting mathparse<0.2,>=0.1 (from ChatterBot==1.2.7)\n",
            "  Using cached mathparse-0.1.5-py3-none-any.whl.metadata (2.0 kB)\n",
            "Requirement already satisfied: python-dateutil<2.10,>=2.9 in /usr/local/lib/python3.11/dist-packages (from ChatterBot==1.2.7) (2.9.0.post0)\n",
            "Requirement already satisfied: sqlalchemy<2.1,>=2.0 in /usr/local/lib/python3.11/dist-packages (from ChatterBot==1.2.7) (2.0.40)\n",
            "Requirement already satisfied: spacy<3.9,>=3.8 in /usr/local/lib/python3.11/dist-packages (from ChatterBot==1.2.7) (3.8.5)\n",
            "Requirement already satisfied: tqdm in /usr/local/lib/python3.11/dist-packages (from ChatterBot==1.2.7) (4.67.1)\n",
            "Requirement already satisfied: six>=1.5 in /usr/local/lib/python3.11/dist-packages (from python-dateutil<2.10,>=2.9->ChatterBot==1.2.7) (1.17.0)\n",
            "Requirement already satisfied: spacy-legacy<3.1.0,>=3.0.11 in /usr/local/lib/python3.11/dist-packages (from spacy<3.9,>=3.8->ChatterBot==1.2.7) (3.0.12)\n",
            "Requirement already satisfied: spacy-loggers<2.0.0,>=1.0.0 in /usr/local/lib/python3.11/dist-packages (from spacy<3.9,>=3.8->ChatterBot==1.2.7) (1.0.5)\n",
            "Requirement already satisfied: murmurhash<1.1.0,>=0.28.0 in /usr/local/lib/python3.11/dist-packages (from spacy<3.9,>=3.8->ChatterBot==1.2.7) (1.0.12)\n",
            "Requirement already satisfied: cymem<2.1.0,>=2.0.2 in /usr/local/lib/python3.11/dist-packages (from spacy<3.9,>=3.8->ChatterBot==1.2.7) (2.0.11)\n",
            "Requirement already satisfied: preshed<3.1.0,>=3.0.2 in /usr/local/lib/python3.11/dist-packages (from spacy<3.9,>=3.8->ChatterBot==1.2.7) (3.0.9)\n",
            "Requirement already satisfied: thinc<8.4.0,>=8.3.4 in /usr/local/lib/python3.11/dist-packages (from spacy<3.9,>=3.8->ChatterBot==1.2.7) (8.3.6)\n",
            "Requirement already satisfied: wasabi<1.2.0,>=0.9.1 in /usr/local/lib/python3.11/dist-packages (from spacy<3.9,>=3.8->ChatterBot==1.2.7) (1.1.3)\n",
            "Requirement already satisfied: srsly<3.0.0,>=2.4.3 in /usr/local/lib/python3.11/dist-packages (from spacy<3.9,>=3.8->ChatterBot==1.2.7) (2.5.1)\n",
            "Requirement already satisfied: catalogue<2.1.0,>=2.0.6 in /usr/local/lib/python3.11/dist-packages (from spacy<3.9,>=3.8->ChatterBot==1.2.7) (2.0.10)\n",
            "Requirement already satisfied: weasel<0.5.0,>=0.1.0 in /usr/local/lib/python3.11/dist-packages (from spacy<3.9,>=3.8->ChatterBot==1.2.7) (0.4.1)\n",
            "Requirement already satisfied: typer<1.0.0,>=0.3.0 in /usr/local/lib/python3.11/dist-packages (from spacy<3.9,>=3.8->ChatterBot==1.2.7) (0.15.3)\n",
            "Requirement already satisfied: numpy>=1.19.0 in /usr/local/lib/python3.11/dist-packages (from spacy<3.9,>=3.8->ChatterBot==1.2.7) (2.0.2)\n",
            "Requirement already satisfied: requests<3.0.0,>=2.13.0 in /usr/local/lib/python3.11/dist-packages (from spacy<3.9,>=3.8->ChatterBot==1.2.7) (2.32.3)\n",
            "Requirement already satisfied: pydantic!=1.8,!=1.8.1,<3.0.0,>=1.7.4 in /usr/local/lib/python3.11/dist-packages (from spacy<3.9,>=3.8->ChatterBot==1.2.7) (2.11.4)\n",
            "Requirement already satisfied: jinja2 in /usr/local/lib/python3.11/dist-packages (from spacy<3.9,>=3.8->ChatterBot==1.2.7) (3.1.6)\n",
            "Requirement already satisfied: setuptools in /usr/local/lib/python3.11/dist-packages (from spacy<3.9,>=3.8->ChatterBot==1.2.7) (75.2.0)\n",
            "Requirement already satisfied: packaging>=20.0 in /usr/local/lib/python3.11/dist-packages (from spacy<3.9,>=3.8->ChatterBot==1.2.7) (24.2)\n",
            "Requirement already satisfied: langcodes<4.0.0,>=3.2.0 in /usr/local/lib/python3.11/dist-packages (from spacy<3.9,>=3.8->ChatterBot==1.2.7) (3.5.0)\n",
            "Requirement already satisfied: greenlet>=1 in /usr/local/lib/python3.11/dist-packages (from sqlalchemy<2.1,>=2.0->ChatterBot==1.2.7) (3.2.1)\n",
            "Requirement already satisfied: typing-extensions>=4.6.0 in /usr/local/lib/python3.11/dist-packages (from sqlalchemy<2.1,>=2.0->ChatterBot==1.2.7) (4.13.2)\n",
            "Requirement already satisfied: language-data>=1.2 in /usr/local/lib/python3.11/dist-packages (from langcodes<4.0.0,>=3.2.0->spacy<3.9,>=3.8->ChatterBot==1.2.7) (1.3.0)\n",
            "Requirement already satisfied: annotated-types>=0.6.0 in /usr/local/lib/python3.11/dist-packages (from pydantic!=1.8,!=1.8.1,<3.0.0,>=1.7.4->spacy<3.9,>=3.8->ChatterBot==1.2.7) (0.7.0)\n",
            "Requirement already satisfied: pydantic-core==2.33.2 in /usr/local/lib/python3.11/dist-packages (from pydantic!=1.8,!=1.8.1,<3.0.0,>=1.7.4->spacy<3.9,>=3.8->ChatterBot==1.2.7) (2.33.2)\n",
            "Requirement already satisfied: typing-inspection>=0.4.0 in /usr/local/lib/python3.11/dist-packages (from pydantic!=1.8,!=1.8.1,<3.0.0,>=1.7.4->spacy<3.9,>=3.8->ChatterBot==1.2.7) (0.4.0)\n",
            "Requirement already satisfied: charset-normalizer<4,>=2 in /usr/local/lib/python3.11/dist-packages (from requests<3.0.0,>=2.13.0->spacy<3.9,>=3.8->ChatterBot==1.2.7) (3.4.1)\n",
            "Requirement already satisfied: idna<4,>=2.5 in /usr/local/lib/python3.11/dist-packages (from requests<3.0.0,>=2.13.0->spacy<3.9,>=3.8->ChatterBot==1.2.7) (3.10)\n",
            "Requirement already satisfied: urllib3<3,>=1.21.1 in /usr/local/lib/python3.11/dist-packages (from requests<3.0.0,>=2.13.0->spacy<3.9,>=3.8->ChatterBot==1.2.7) (2.4.0)\n",
            "Requirement already satisfied: certifi>=2017.4.17 in /usr/local/lib/python3.11/dist-packages (from requests<3.0.0,>=2.13.0->spacy<3.9,>=3.8->ChatterBot==1.2.7) (2025.4.26)\n",
            "Requirement already satisfied: blis<1.4.0,>=1.3.0 in /usr/local/lib/python3.11/dist-packages (from thinc<8.4.0,>=8.3.4->spacy<3.9,>=3.8->ChatterBot==1.2.7) (1.3.0)\n",
            "Requirement already satisfied: confection<1.0.0,>=0.0.1 in /usr/local/lib/python3.11/dist-packages (from thinc<8.4.0,>=8.3.4->spacy<3.9,>=3.8->ChatterBot==1.2.7) (0.1.5)\n",
            "Requirement already satisfied: click>=8.0.0 in /usr/local/lib/python3.11/dist-packages (from typer<1.0.0,>=0.3.0->spacy<3.9,>=3.8->ChatterBot==1.2.7) (8.1.8)\n",
            "Requirement already satisfied: shellingham>=1.3.0 in /usr/local/lib/python3.11/dist-packages (from typer<1.0.0,>=0.3.0->spacy<3.9,>=3.8->ChatterBot==1.2.7) (1.5.4)\n",
            "Requirement already satisfied: rich>=10.11.0 in /usr/local/lib/python3.11/dist-packages (from typer<1.0.0,>=0.3.0->spacy<3.9,>=3.8->ChatterBot==1.2.7) (13.9.4)\n",
            "Requirement already satisfied: cloudpathlib<1.0.0,>=0.7.0 in /usr/local/lib/python3.11/dist-packages (from weasel<0.5.0,>=0.1.0->spacy<3.9,>=3.8->ChatterBot==1.2.7) (0.21.0)\n",
            "Requirement already satisfied: smart-open<8.0.0,>=5.2.1 in /usr/local/lib/python3.11/dist-packages (from weasel<0.5.0,>=0.1.0->spacy<3.9,>=3.8->ChatterBot==1.2.7) (7.1.0)\n",
            "Requirement already satisfied: MarkupSafe>=2.0 in /usr/local/lib/python3.11/dist-packages (from jinja2->spacy<3.9,>=3.8->ChatterBot==1.2.7) (3.0.2)\n",
            "Requirement already satisfied: marisa-trie>=1.1.0 in /usr/local/lib/python3.11/dist-packages (from language-data>=1.2->langcodes<4.0.0,>=3.2.0->spacy<3.9,>=3.8->ChatterBot==1.2.7) (1.2.1)\n",
            "Requirement already satisfied: markdown-it-py>=2.2.0 in /usr/local/lib/python3.11/dist-packages (from rich>=10.11.0->typer<1.0.0,>=0.3.0->spacy<3.9,>=3.8->ChatterBot==1.2.7) (3.0.0)\n",
            "Requirement already satisfied: pygments<3.0.0,>=2.13.0 in /usr/local/lib/python3.11/dist-packages (from rich>=10.11.0->typer<1.0.0,>=0.3.0->spacy<3.9,>=3.8->ChatterBot==1.2.7) (2.19.1)\n",
            "Requirement already satisfied: wrapt in /usr/local/lib/python3.11/dist-packages (from smart-open<8.0.0,>=5.2.1->weasel<0.5.0,>=0.1.0->spacy<3.9,>=3.8->ChatterBot==1.2.7) (1.17.2)\n",
            "Requirement already satisfied: mdurl~=0.1 in /usr/local/lib/python3.11/dist-packages (from markdown-it-py>=2.2.0->rich>=10.11.0->typer<1.0.0,>=0.3.0->spacy<3.9,>=3.8->ChatterBot==1.2.7) (0.1.2)\n",
            "Downloading mathparse-0.1.5-py3-none-any.whl (8.8 kB)\n",
            "Building wheels for collected packages: ChatterBot\n",
            "  Building wheel for ChatterBot (pyproject.toml) ... \u001b[?25l\u001b[?25hdone\n",
            "  Created wheel for ChatterBot: filename=chatterbot-1.2.7-py3-none-any.whl size=76034 sha256=9cc104566b0d67f0476a6b81bf02b4c10d83500596bc7f13e97deda0bfb02fa0\n",
            "  Stored in directory: /tmp/pip-ephem-wheel-cache-5iqes74p/wheels/a0/ee/3b/2dba7e18529a8f651930912a1d07627eeaa438dc730bd536ab\n",
            "Successfully built ChatterBot\n",
            "Installing collected packages: mathparse, ChatterBot\n",
            "Successfully installed ChatterBot-1.2.7 mathparse-0.1.5\n",
            "Collecting git+https://github.com/gunthercox/chatterbot-corpus@master\n",
            "  Cloning https://github.com/gunthercox/chatterbot-corpus (to revision master) to /tmp/pip-req-build-uldcyqkr\n",
            "  Running command git clone --filter=blob:none --quiet https://github.com/gunthercox/chatterbot-corpus /tmp/pip-req-build-uldcyqkr\n",
            "  Resolved https://github.com/gunthercox/chatterbot-corpus to commit 443b639da2b213c8540a620dc586e923d46656b8\n",
            "  Installing build dependencies ... \u001b[?25l\u001b[?25hdone\n",
            "  Getting requirements to build wheel ... \u001b[?25l\u001b[?25hdone\n",
            "  Preparing metadata (pyproject.toml) ... \u001b[?25l\u001b[?25hdone\n"
          ]
        }
      ],
      "source": [
        "!pip install git+https://github.com/gunthercox/ChatterBot@master\n",
        "!pip install git+https://github.com/gunthercox/chatterbot-corpus@master\n",
        "\n",
        "\n"
      ]
    },
    {
      "cell_type": "code",
      "source": [
        "from chatterbot import ChatBot\n",
        "from chatterbot.trainers import ListTrainer"
      ],
      "metadata": {
        "id": "4xRgfucZ3HvW"
      },
      "id": "4xRgfucZ3HvW",
      "execution_count": 5,
      "outputs": []
    },
    {
      "cell_type": "code",
      "execution_count": 6,
      "id": "18e85fef-8027-43c5-b1ec-7a295f203740",
      "metadata": {
        "id": "18e85fef-8027-43c5-b1ec-7a295f203740"
      },
      "outputs": [],
      "source": [
        "healthbot = ChatBot(\n",
        "    name= 'HealthBot',\n",
        "    logic_adapters=['chatterbot.logic.BestMatch'],\n",
        "    read_only=True\n",
        ")"
      ]
    },
    {
      "cell_type": "code",
      "execution_count": 7,
      "id": "727199ce-7f0e-43aa-a725-1ec434483f3c",
      "metadata": {
        "id": "727199ce-7f0e-43aa-a725-1ec434483f3c"
      },
      "outputs": [],
      "source": [
        "trainer = ListTrainer(healthbot)"
      ]
    },
    {
      "cell_type": "code",
      "execution_count": 8,
      "id": "91d65e01-0b40-430b-86f8-c25cb8712648",
      "metadata": {
        "id": "91d65e01-0b40-430b-86f8-c25cb8712648"
      },
      "outputs": [],
      "source": [
        "conversation = [\n",
        "    \"Hi\",\n",
        "    \"Hello! I am HealthBot. How can I assist you today?\",\n",
        "    \"Hello\",\n",
        "    \"Hi! Do you have a health-related question?\",\n",
        "    \"I have a headache\",\n",
        "    \"You should rest, stay hydrated, and take a mild pain reliever if needed.\",\n",
        "    \"What should I do if I have a fever?\",\n",
        "    \"Drink plenty of fluids and rest. If the fever persists, please consult a doctor.\",\n",
        "    \"I feel dizzy\",\n",
        "    \"Sit down, breathe deeply, and drink water. If it continues, seek medical help.\",\n",
        "    \"What should I eat for a cold?\",\n",
        "    \"Warm fluids, soups, citrus fruits, and light meals help during a cold.\",\n",
        "    \"How to stay healthy?\",\n",
        "    \"Eat balanced meals, exercise regularly, stay hydrated, and get enough sleep.\",\n",
        "    \"What should I do in case of a cut?\",\n",
        "    \"Clean the wound with water, apply antiseptic, and cover it with a clean bandage.\",\n",
        "    \"How much water should I drink daily?\",\n",
        "    \"Generally, 2 to 3 liters per day is recommended, but it varies based on your activity.\",\n",
        "    \"Thank you\",\n",
        "    \"You’re welcome! Take care.\",\n",
        "    \"Bye\",\n",
        "    \"Goodbye! Stay healthy.\"\n",
        "]"
      ]
    },
    {
      "cell_type": "code",
      "execution_count": 9,
      "id": "60faaf65-3cec-4a07-a0e1-b514c28a8d13",
      "metadata": {
        "colab": {
          "base_uri": "https://localhost:8080/"
        },
        "id": "60faaf65-3cec-4a07-a0e1-b514c28a8d13",
        "outputId": "d29cae1c-675a-4619-f767-1957140fde93"
      },
      "outputs": [
        {
          "output_type": "stream",
          "name": "stderr",
          "text": [
            "List Trainer: 22it [00:00, 506.39it/s]\n"
          ]
        }
      ],
      "source": [
        "trainer.train(conversation)"
      ]
    },
    {
      "cell_type": "code",
      "execution_count": 10,
      "id": "c6bf89b6-67b5-482d-8a6b-5b7a50eda6ea",
      "metadata": {
        "colab": {
          "base_uri": "https://localhost:8080/"
        },
        "id": "c6bf89b6-67b5-482d-8a6b-5b7a50eda6ea",
        "outputId": "2be3d84f-6b70-4ca2-8679-7ec20769987b"
      },
      "outputs": [
        {
          "output_type": "stream",
          "name": "stdout",
          "text": [
            "HealthBot is ready! Type 'bye' to exit.\n",
            "\n",
            "You: bye\n",
            "HealthBot: Goodbye! Stay healthy.\n"
          ]
        }
      ],
      "source": [
        "print(\"HealthBot is ready! Type 'bye' to exit.\\n\")\n",
        "while True:\n",
        "    query = input(\"You: \")\n",
        "    if query.lower() == 'bye':\n",
        "        print(\"HealthBot: Goodbye! Stay healthy.\")\n",
        "        break\n",
        "    response = healthbot.get_response(query)\n",
        "    print(\"HealthBot:\", response)"
      ]
    }
  ],
  "metadata": {
    "kernelspec": {
      "display_name": "Python 3 (ipykernel)",
      "language": "python",
      "name": "python3"
    },
    "language_info": {
      "codemirror_mode": {
        "name": "ipython",
        "version": 3
      },
      "file_extension": ".py",
      "mimetype": "text/x-python",
      "name": "python",
      "nbconvert_exporter": "python",
      "pygments_lexer": "ipython3",
      "version": "3.12.9"
    },
    "colab": {
      "provenance": []
    }
  },
  "nbformat": 4,
  "nbformat_minor": 5
}